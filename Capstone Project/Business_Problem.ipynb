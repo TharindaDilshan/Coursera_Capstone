{
  "nbformat": 4,
  "nbformat_minor": 0,
  "metadata": {
    "colab": {
      "name": "Business Proble.ipynb",
      "provenance": [],
      "authorship_tag": "ABX9TyPgdGKuRghs7wFki77XXWXT"
    },
    "kernelspec": {
      "name": "python3",
      "display_name": "Python 3"
    },
    "language_info": {
      "name": "python"
    }
  },
  "cells": [
    {
      "cell_type": "markdown",
      "metadata": {
        "id": "QtXTodae0dlN"
      },
      "source": [
        "# **Paris Tour Guide**\n",
        "\n",
        "## Introduction\n",
        "\n",
        "Paris is a popular tourist destination for all types of tourists and it is also called the City of Lights. The city attracts millions of tourists every year and it features grandiose monuments such as Arc de Triomphe, Eiffel Tower, and so on. The city has a romantic charm and it is filled with a plethora of activities that you can try out. \n",
        "\n",
        "## Business Problem\n",
        "\n",
        "The intention of this project is to help tourists explore Paris depending on the experiences the neighborhoods in Paris has to offer. This project can later be extended in the future to generalize results, so that it is possible for tourists to get details about other interesting tourist destinations as well.\n",
        "\n"
      ]
    }
  ]
}