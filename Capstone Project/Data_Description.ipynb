{
  "nbformat": 4,
  "nbformat_minor": 0,
  "metadata": {
    "colab": {
      "name": "Data Description.ipynb",
      "provenance": [],
      "authorship_tag": "ABX9TyPPZ0GqSMvXeYNj4BMvPPrc"
    },
    "kernelspec": {
      "name": "python3",
      "display_name": "Python 3"
    },
    "language_info": {
      "name": "python"
    }
  },
  "cells": [
    {
      "cell_type": "markdown",
      "metadata": {
        "id": "xUGt3YaM2zN9"
      },
      "source": [
        "## Data Description\n",
        "\n",
        "The neighborhoods, boroughs, and venues are derived using the postal codes of Paris.\n",
        "\n",
        "Data source: https://www.data.gouv.fr/fr/datasets/r/e88c6fda-1d09-42a0-a069-606d3259114e \n",
        "\n",
        "The above source contains data related to all the neighborhoods in France. For the purpose of this project, only neighborhoods in Paris will be considered for now.\n",
        "\n",
        "The source returns a JSON file that contains the following data,\n",
        "\n",
        "\n",
        "*   postal_code : Postal codes for France\n",
        "*   nom_comm : Neighbourhoods in France\n",
        "*   nom_dept : Boroughs(towns)\n",
        "*   geo_point_2d : latitude and longitude tuple of the Neighbourhoods\n",
        "\n",
        "### Foursquare API Usage\n",
        "\n",
        "Foursquare API will be used to retrieve data related to venues in different neighborhoods. For each neighborhood, related venues and tourist attractions that are within the radius will be identified using the foursquare API. \n",
        "\n",
        "The final dataframe created after processing the information obtained through the foursquare API are as follows,\n",
        "\n",
        "\n",
        "*   Neighbourhood\n",
        "*   Neighborhood latitude and Longitude\n",
        "*   Name of the venue\n",
        "*   Venue latitude and longitude\n",
        "*   Venue category\n",
        "\n",
        "\n",
        "\n",
        "\n",
        "\n"
      ]
    }
  ]
}