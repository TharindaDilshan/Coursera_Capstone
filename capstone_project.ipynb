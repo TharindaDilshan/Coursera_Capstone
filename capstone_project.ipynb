{
  "nbformat": 4,
  "nbformat_minor": 0,
  "metadata": {
    "colab": {
      "name": "capstone_project.ipynb",
      "provenance": [],
      "authorship_tag": "ABX9TyNmkdTceLzvWxv3cYMNyHW0"
    },
    "kernelspec": {
      "name": "python3",
      "display_name": "Python 3"
    },
    "language_info": {
      "name": "python"
    }
  },
  "cells": [
    {
      "cell_type": "markdown",
      "metadata": {
        "id": "YhDfIum9CXBd"
      },
      "source": [
        "This notebook contains the Capstone Project implementation"
      ]
    },
    {
      "cell_type": "code",
      "metadata": {
        "id": "KRyYYsLmC-ul"
      },
      "source": [
        "import pandas as pd\n",
        "import numpy as np"
      ],
      "execution_count": 1,
      "outputs": []
    },
    {
      "cell_type": "code",
      "metadata": {
        "colab": {
          "base_uri": "https://localhost:8080/"
        },
        "id": "oMjNXeqdDQwb",
        "outputId": "9b83c1f6-7951-4d83-8338-70c9fc100177"
      },
      "source": [
        "print(\"Hello Capstone Project Course!\")"
      ],
      "execution_count": 2,
      "outputs": [
        {
          "output_type": "stream",
          "text": [
            "Hello Capstone Project Course!\n"
          ],
          "name": "stdout"
        }
      ]
    }
  ]
}